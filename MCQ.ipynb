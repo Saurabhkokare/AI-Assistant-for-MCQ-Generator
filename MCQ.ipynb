{
 "cells": [
  {
   "cell_type": "code",
   "execution_count": 141,
   "metadata": {},
   "outputs": [
    {
     "data": {
      "text/plain": [
       "True"
      ]
     },
     "execution_count": 141,
     "metadata": {},
     "output_type": "execute_result"
    }
   ],
   "source": [
    "import os\n",
    "import json\n",
    "import pandas as pd\n",
    "import traceback\n",
    "from dotenv import load_dotenv\n",
    "import cohere\n",
    "load_dotenv()"
   ]
  },
  {
   "cell_type": "code",
   "execution_count": 142,
   "metadata": {},
   "outputs": [],
   "source": [
    "cohere_api_key=os.environ['COHERE_API_KEY']"
   ]
  },
  {
   "cell_type": "code",
   "execution_count": 143,
   "metadata": {},
   "outputs": [],
   "source": [
    "co = cohere.ClientV2(api_key=cohere_api_key)\n"
   ]
  },
  {
   "cell_type": "code",
   "execution_count": 144,
   "metadata": {},
   "outputs": [],
   "source": [
    "from langchain_cohere import ChatCohere\n",
    "\n",
    "llm = ChatCohere(model=\"command-r\")"
   ]
  },
  {
   "cell_type": "code",
   "execution_count": 145,
   "metadata": {},
   "outputs": [],
   "source": [
    "from langchain.llms import Cohere\n",
    "from langchain.prompts import PromptTemplate\n",
    "from langchain.chains import LLMChain\n",
    "from langchain.chains import SequentialChain\n",
    "from langchain.callbacks import PromptLayerCallbackHandler\n",
    "import PyPDF2"
   ]
  },
  {
   "cell_type": "code",
   "execution_count": 165,
   "metadata": {},
   "outputs": [],
   "source": [
    "RESPONSE_JSON={\n",
    "    \"1\":{\n",
    "        \"mcq\":\"multiple choice question\",\n",
    "        \"options\":{\n",
    "            \"a\":\"choice here\",\n",
    "            \"b\":\"choice here\",\n",
    "            \"c\":\"choice here\",\n",
    "            \"d\":\"choice here\"\n",
    "        },\n",
    "        \"correct\":\"correct answer\",\n",
    "    },\n",
    "    \"2\":{\n",
    "        \"mcq\":\"multiple choice question\",\n",
    "        \"options\":{\n",
    "            \"a\":\"choice here\",\n",
    "            \"b\":\"choice here\",\n",
    "            \"c\":\"choice here\",\n",
    "            \"d\":\"choice here\"\n",
    "        },\n",
    "        \"correct\":\"correct answer\",\n",
    "    },\n",
    "    \"3\":{\n",
    "        \"mcq\":\"multiple choice question\",\n",
    "        \"options\":{\n",
    "            \"a\":\"choice here\",\n",
    "            \"b\":\"choice here\",\n",
    "            \"c\":\"choice here\",\n",
    "            \"d\":\"choice here\"\n",
    "        },\n",
    "        \"correct\":\"correct answer\",\n",
    "    },\n",
    "    \"4\":{\n",
    "        \"mcq\":\"multiple choice question\",\n",
    "        \"options\":{\n",
    "            \"a\":\"choice here\",\n",
    "            \"b\":\"choice here\",\n",
    "            \"c\":\"choice here\",\n",
    "            \"d\":\"choice here\"\n",
    "        },\n",
    "        \"correct\":\"correct answer\",\n",
    "    },\n",
    "    \"5\":{\n",
    "        \"mcq\":\"multiple choice question\",\n",
    "        \"options\":{\n",
    "            \"a\":\"choice here\",\n",
    "            \"b\":\"choice here\",\n",
    "            \"c\":\"choice here\",\n",
    "            \"d\":\"choice here\"\n",
    "        },\n",
    "        \"correct\":\"correct answer\",\n",
    "    }\n",
    "}"
   ]
  },
  {
   "cell_type": "code",
   "execution_count": 166,
   "metadata": {},
   "outputs": [],
   "source": [
    "TEMPLATE=\"\"\"\n",
    "    Text:{text}\n",
    "    You are an expert MCQ maker.Given the above text it is your job \\\n",
    "    to create a quiz of {number} multiple choice questions for {subject} students in {tone} tone.\n",
    "    make sure the questions are not repeated and check all the questions to be conforming the text as well.\n",
    "    make sure to format your response like RESPONSE_JSON below and use it as guide.\\\n",
    "    Ensure to make {number} MCQs\n",
    "    ###RESPONSE_JSON\n",
    "    {response_json}\n",
    "    \n",
    "    \n",
    "\"\"\""
   ]
  },
  {
   "cell_type": "code",
   "execution_count": 167,
   "metadata": {},
   "outputs": [],
   "source": [
    "quiz_generation_prompt=PromptTemplate(\n",
    "    input_variables=[\"text\",\"number\",\"subject\",\"tone\",\"response_json\"],\n",
    "    template=TEMPLATE    \n",
    ")"
   ]
  },
  {
   "cell_type": "code",
   "execution_count": 168,
   "metadata": {},
   "outputs": [],
   "source": [
    "quiz_chain=LLMChain(llm=llm,prompt=quiz_generation_prompt,output_key=\"quiz\")"
   ]
  },
  {
   "cell_type": "code",
   "execution_count": 169,
   "metadata": {},
   "outputs": [],
   "source": [
    "TEMPLATE2=\"\"\"\n",
    "    You are an expert english grammarian and writer.Given a multiple choice quiz for {subject} students.\\\n",
    "    You need to evaluate complexity of the question and give a complete analysis of quiz.only use at max 50 words.\n",
    "    If the quiz is not as per with the cognitive and analytical abilities of the students.\\\n",
    "    update the quiz questions which need to be changed and change the tone such that it perfectly fits.\n",
    "    Quiz_MCQs:\n",
    "    {quiz}\n",
    "    \n",
    "    Check from an expert english writer of the above quiz:\n",
    "\n",
    "\"\"\""
   ]
  },
  {
   "cell_type": "code",
   "execution_count": 170,
   "metadata": {},
   "outputs": [],
   "source": [
    "callback = PromptLayerCallbackHandler()"
   ]
  },
  {
   "cell_type": "code",
   "execution_count": 171,
   "metadata": {},
   "outputs": [],
   "source": [
    "quiz_evaluation_prompt=PromptTemplate(input_variables=[\"subject\",\"quiz\"],template=TEMPLATE,callbacks=[callback])"
   ]
  },
  {
   "cell_type": "code",
   "execution_count": 172,
   "metadata": {},
   "outputs": [],
   "source": [
    "review_chain=LLMChain(llm=llm,prompt=quiz_evaluation_prompt,output_key=\"review\",verbose=True)"
   ]
  },
  {
   "cell_type": "code",
   "execution_count": 173,
   "metadata": {},
   "outputs": [],
   "source": [
    "generate_evaluate_chain=SequentialChain(\n",
    "    chains=[quiz_chain,review_chain],input_variables=[\"text\",\"number\",\"subject\",\"tone\",\"response_json\"],\n",
    "    output_variables=[\"subject\",\"quiz\"],verbose=True\n",
    ")"
   ]
  },
  {
   "cell_type": "code",
   "execution_count": 174,
   "metadata": {},
   "outputs": [],
   "source": [
    "with open('/home/saurabh_kokare/Music/APP/data.txt','r') as file:\n",
    "    Text=file.read()"
   ]
  },
  {
   "cell_type": "code",
   "execution_count": 175,
   "metadata": {},
   "outputs": [
    {
     "data": {
      "text/plain": [
       "'{\"1\": {\"mcq\": \"multiple choice question\", \"options\": {\"a\": \"choice here\", \"b\": \"choice here\", \"c\": \"choice here\", \"d\": \"choice here\"}, \"correct\": \"correct answer\"}, \"2\": {\"mcq\": \"multiple choice question\", \"options\": {\"a\": \"choice here\", \"b\": \"choice here\", \"c\": \"choice here\", \"d\": \"choice here\"}, \"correct\": \"correct answer\"}, \"3\": {\"mcq\": \"multiple choice question\", \"options\": {\"a\": \"choice here\", \"b\": \"choice here\", \"c\": \"choice here\", \"d\": \"choice here\"}, \"correct\": \"correct answer\"}, \"4\": {\"mcq\": \"multiple choice question\", \"options\": {\"a\": \"choice here\", \"b\": \"choice here\", \"c\": \"choice here\", \"d\": \"choice here\"}, \"correct\": \"correct answer\"}, \"5\": {\"mcq\": \"multiple choice question\", \"options\": {\"a\": \"choice here\", \"b\": \"choice here\", \"c\": \"choice here\", \"d\": \"choice here\"}, \"correct\": \"correct answer\"}}'"
      ]
     },
     "execution_count": 175,
     "metadata": {},
     "output_type": "execute_result"
    }
   ],
   "source": [
    "json.dumps(RESPONSE_JSON)"
   ]
  },
  {
   "cell_type": "code",
   "execution_count": 176,
   "metadata": {},
   "outputs": [],
   "source": [
    "NUMBER=5\n",
    "SUBJECT=\"subhash chandra bhose\"\n",
    "TONE='simple'"
   ]
  },
  {
   "cell_type": "code",
   "execution_count": 177,
   "metadata": {},
   "outputs": [
    {
     "name": "stdout",
     "output_type": "stream",
     "text": [
      "\n",
      "\n",
      "\u001b[1m> Entering new SequentialChain chain...\u001b[0m\n",
      "\n",
      "\n",
      "\u001b[1m> Entering new LLMChain chain...\u001b[0m\n",
      "Prompt after formatting:\n",
      "\u001b[32;1m\u001b[1;3m\n",
      "    Text:Subhas Bose followed his five brothers again 1913 to Presidency College, Calcutta, the historic and traditional college for Bengal's upper-caste Hindu men.[60][61] He chose to study philosophy, his readings including Kant, Hegel, Bergson and other Western philosophers.[62] A year earlier, he had befriended Hemanta Kumar Sarkar, a confidant and partner in religious yearnings.[63] At Presidency, their emotional ties grew stronger.[63] In the fanciful language of religious imagery, they declared their pure love for each other.[63] In the long vacations of 1914, they traveled to northern India for several months to search for a spiritual guru to guide them.[63] Subhas's family was not told clearly about the trip, leading them to think he had run away. During the trip, in which the guru proved elusive, Subhas came down with typhoid fever.[63] His absence caused emotional distress to his parents, leading both parents to break down upon his return.[63] Heated words were exchanged between Janakinath and Subhas. It took the return of Subhas's favorite brother, Sarat Chandra Bose, from law studies in England for the tempers to subside. Subhas returned to presidency and busied himself with studies, debating and student journalism.[63]\n",
      "\n",
      "In February 1916, Bose was alleged to have masterminded,[53] or participated in, an incident involving E. F. Oaten, Professor of History at Presidency.[9] Before the incident, it was claimed by the students, Oaten had made rude remarks about Indian culture, and collared and pushed some students; according to Oaten, the students were making an unacceptably loud noise just outside his class.[9] A few days later, on 15 February, some students accosted Oaten on a stairway, surrounded him, beat him with sandals, and took to flight.[9] An inquiry committee was constituted. Although Oaten, who was unhurt, could not identify his assailants, a college servant testified to seeing Subhas Bose among those fleeing, confirming for the authorities what they had determined to be the rumor among the students.[9] Bose was expelled from the college and rusticated from University of Calcutta.[64] The incident shocked Calcutta and caused anguish to Bose's family.[53] He was ordered back to Cuttack. His family's connections were employed to pressure Asutosh Mukherjee, the Vice-Chancellor of Calcutta University.[64] Despite this, Subhas Bose's expulsion remained in place until 20 July 1917, when the Syndicate of Calcutta University granted him permission to return, but to another college.[10] He joined Scottish Church College, receiving his B.A. in 1918 in the First Class with honours in philosophy, placing second among all philosophy students in Calcutta University.[65]\n",
      "    You are an expert MCQ maker.Given the above text it is your job     to create a quiz of 5 multiple choice questions for subhash chandra bhose students in simple tone.\n",
      "    make sure the questions are not repeated and check all the questions to be conforming the text as well.\n",
      "    make sure to format your response like RESPONSE_JSON below and use it as guide.    Ensure to make 5 MCQs\n",
      "    ###RESPONSE_JSON\n",
      "    {\"1\": {\"mcq\": \"multiple choice question\", \"options\": {\"a\": \"choice here\", \"b\": \"choice here\", \"c\": \"choice here\", \"d\": \"choice here\"}, \"correct\": \"correct answer\"}, \"2\": {\"mcq\": \"multiple choice question\", \"options\": {\"a\": \"choice here\", \"b\": \"choice here\", \"c\": \"choice here\", \"d\": \"choice here\"}, \"correct\": \"correct answer\"}, \"3\": {\"mcq\": \"multiple choice question\", \"options\": {\"a\": \"choice here\", \"b\": \"choice here\", \"c\": \"choice here\", \"d\": \"choice here\"}, \"correct\": \"correct answer\"}, \"4\": {\"mcq\": \"multiple choice question\", \"options\": {\"a\": \"choice here\", \"b\": \"choice here\", \"c\": \"choice here\", \"d\": \"choice here\"}, \"correct\": \"correct answer\"}, \"5\": {\"mcq\": \"multiple choice question\", \"options\": {\"a\": \"choice here\", \"b\": \"choice here\", \"c\": \"choice here\", \"d\": \"choice here\"}, \"correct\": \"correct answer\"}}\n",
      "    \n",
      "    \n",
      "\u001b[0m\n",
      "\n",
      "\u001b[1m> Finished chain.\u001b[0m\n",
      "\n",
      "\u001b[1m> Finished chain.\u001b[0m\n"
     ]
    }
   ],
   "source": [
    "response=generate_evaluate_chain(\n",
    "    {\n",
    "        \"text\":Text,\n",
    "        \"number\":NUMBER,\n",
    "        \"subject\":SUBJECT,\n",
    "        \"tone\":TONE,\n",
    "        \"response_json\":json.dumps(RESPONSE_JSON)\n",
    "    }\n",
    ")"
   ]
  },
  {
   "cell_type": "code",
   "execution_count": 178,
   "metadata": {},
   "outputs": [
    {
     "name": "stdout",
     "output_type": "stream",
     "text": [
      "\n",
      "\n",
      "\u001b[1m> Entering new SequentialChain chain...\u001b[0m\n",
      "\n",
      "\n",
      "\u001b[1m> Entering new LLMChain chain...\u001b[0m\n",
      "Prompt after formatting:\n",
      "\u001b[32;1m\u001b[1;3m\n",
      "    Text:Subhas Bose followed his five brothers again 1913 to Presidency College, Calcutta, the historic and traditional college for Bengal's upper-caste Hindu men.[60][61] He chose to study philosophy, his readings including Kant, Hegel, Bergson and other Western philosophers.[62] A year earlier, he had befriended Hemanta Kumar Sarkar, a confidant and partner in religious yearnings.[63] At Presidency, their emotional ties grew stronger.[63] In the fanciful language of religious imagery, they declared their pure love for each other.[63] In the long vacations of 1914, they traveled to northern India for several months to search for a spiritual guru to guide them.[63] Subhas's family was not told clearly about the trip, leading them to think he had run away. During the trip, in which the guru proved elusive, Subhas came down with typhoid fever.[63] His absence caused emotional distress to his parents, leading both parents to break down upon his return.[63] Heated words were exchanged between Janakinath and Subhas. It took the return of Subhas's favorite brother, Sarat Chandra Bose, from law studies in England for the tempers to subside. Subhas returned to presidency and busied himself with studies, debating and student journalism.[63]\n",
      "\n",
      "In February 1916, Bose was alleged to have masterminded,[53] or participated in, an incident involving E. F. Oaten, Professor of History at Presidency.[9] Before the incident, it was claimed by the students, Oaten had made rude remarks about Indian culture, and collared and pushed some students; according to Oaten, the students were making an unacceptably loud noise just outside his class.[9] A few days later, on 15 February, some students accosted Oaten on a stairway, surrounded him, beat him with sandals, and took to flight.[9] An inquiry committee was constituted. Although Oaten, who was unhurt, could not identify his assailants, a college servant testified to seeing Subhas Bose among those fleeing, confirming for the authorities what they had determined to be the rumor among the students.[9] Bose was expelled from the college and rusticated from University of Calcutta.[64] The incident shocked Calcutta and caused anguish to Bose's family.[53] He was ordered back to Cuttack. His family's connections were employed to pressure Asutosh Mukherjee, the Vice-Chancellor of Calcutta University.[64] Despite this, Subhas Bose's expulsion remained in place until 20 July 1917, when the Syndicate of Calcutta University granted him permission to return, but to another college.[10] He joined Scottish Church College, receiving his B.A. in 1918 in the First Class with honours in philosophy, placing second among all philosophy students in Calcutta University.[65]\n",
      "    You are an expert MCQ maker.Given the above text it is your job     to create a quiz of 5 multiple choice questions for subhash chandra bose students in simple tone.\n",
      "    make sure the questions are not repeated and check all the questions to be conforming the text as well.\n",
      "    make sure to format your response like RESPONSE_JSON below and use it as guide.    Ensure to make 5 MCQs\n",
      "    ###RESPONSE_JSON\n",
      "    {\"1\": {\"mcq\": \"multiple choice question\", \"options\": {\"a\": \"choice here\", \"b\": \"choice here\", \"c\": \"choice here\", \"d\": \"choice here\"}, \"correct\": \"correct answer\"}, \"2\": {\"mcq\": \"multiple choice question\", \"options\": {\"a\": \"choice here\", \"b\": \"choice here\", \"c\": \"choice here\", \"d\": \"choice here\"}, \"correct\": \"correct answer\"}, \"3\": {\"mcq\": \"multiple choice question\", \"options\": {\"a\": \"choice here\", \"b\": \"choice here\", \"c\": \"choice here\", \"d\": \"choice here\"}, \"correct\": \"correct answer\"}, \"4\": {\"mcq\": \"multiple choice question\", \"options\": {\"a\": \"choice here\", \"b\": \"choice here\", \"c\": \"choice here\", \"d\": \"choice here\"}, \"correct\": \"correct answer\"}, \"5\": {\"mcq\": \"multiple choice question\", \"options\": {\"a\": \"choice here\", \"b\": \"choice here\", \"c\": \"choice here\", \"d\": \"choice here\"}, \"correct\": \"correct answer\"}}\n",
      "    \n",
      "    \n",
      "\u001b[0m\n",
      "\n",
      "\u001b[1m> Finished chain.\u001b[0m\n",
      "\n",
      "\u001b[1m> Finished chain.\u001b[0m\n",
      "Response: {'text': \"Subhas Bose followed his five brothers again 1913 to Presidency College, Calcutta, the historic and traditional college for Bengal's upper-caste Hindu men.[60][61] He chose to study philosophy, his readings including Kant, Hegel, Bergson and other Western philosophers.[62] A year earlier, he had befriended Hemanta Kumar Sarkar, a confidant and partner in religious yearnings.[63] At Presidency, their emotional ties grew stronger.[63] In the fanciful language of religious imagery, they declared their pure love for each other.[63] In the long vacations of 1914, they traveled to northern India for several months to search for a spiritual guru to guide them.[63] Subhas's family was not told clearly about the trip, leading them to think he had run away. During the trip, in which the guru proved elusive, Subhas came down with typhoid fever.[63] His absence caused emotional distress to his parents, leading both parents to break down upon his return.[63] Heated words were exchanged between Janakinath and Subhas. It took the return of Subhas's favorite brother, Sarat Chandra Bose, from law studies in England for the tempers to subside. Subhas returned to presidency and busied himself with studies, debating and student journalism.[63]\\n\\nIn February 1916, Bose was alleged to have masterminded,[53] or participated in, an incident involving E. F. Oaten, Professor of History at Presidency.[9] Before the incident, it was claimed by the students, Oaten had made rude remarks about Indian culture, and collared and pushed some students; according to Oaten, the students were making an unacceptably loud noise just outside his class.[9] A few days later, on 15 February, some students accosted Oaten on a stairway, surrounded him, beat him with sandals, and took to flight.[9] An inquiry committee was constituted. Although Oaten, who was unhurt, could not identify his assailants, a college servant testified to seeing Subhas Bose among those fleeing, confirming for the authorities what they had determined to be the rumor among the students.[9] Bose was expelled from the college and rusticated from University of Calcutta.[64] The incident shocked Calcutta and caused anguish to Bose's family.[53] He was ordered back to Cuttack. His family's connections were employed to pressure Asutosh Mukherjee, the Vice-Chancellor of Calcutta University.[64] Despite this, Subhas Bose's expulsion remained in place until 20 July 1917, when the Syndicate of Calcutta University granted him permission to return, but to another college.[10] He joined Scottish Church College, receiving his B.A. in 1918 in the First Class with honours in philosophy, placing second among all philosophy students in Calcutta University.[65]\", 'tone': 'simple', 'number': 5, 'subject': 'subhash chandra bose', 'response_json': '{\"1\": {\"mcq\": \"multiple choice question\", \"options\": {\"a\": \"choice here\", \"b\": \"choice here\", \"c\": \"choice here\", \"d\": \"choice here\"}, \"correct\": \"correct answer\"}, \"2\": {\"mcq\": \"multiple choice question\", \"options\": {\"a\": \"choice here\", \"b\": \"choice here\", \"c\": \"choice here\", \"d\": \"choice here\"}, \"correct\": \"correct answer\"}, \"3\": {\"mcq\": \"multiple choice question\", \"options\": {\"a\": \"choice here\", \"b\": \"choice here\", \"c\": \"choice here\", \"d\": \"choice here\"}, \"correct\": \"correct answer\"}, \"4\": {\"mcq\": \"multiple choice question\", \"options\": {\"a\": \"choice here\", \"b\": \"choice here\", \"c\": \"choice here\", \"d\": \"choice here\"}, \"correct\": \"correct answer\"}, \"5\": {\"mcq\": \"multiple choice question\", \"options\": {\"a\": \"choice here\", \"b\": \"choice here\", \"c\": \"choice here\", \"d\": \"choice here\"}, \"correct\": \"correct answer\"}}', 'quiz': '```json\\n{\\n  \"1\": {\\n    \"mcq\": \"Why did Subhas Bose travel to Northern India during the long vacations of 1914?\",\\n    \"options\": {\\n      \"a\": \"To search for a spiritual guru\",\\n      \"b\": \"To study philosophy\",\\n      \"c\": \"To meet his brothers\",\\n      \"d\": \"To take a break from college\"\\n    },\\n    \"correct\": \"a\"\\n  },\\n  \"2\": {\\n    \"mcq\": \"What was the consequence of the incident involving Professor Oaten?\",\\n    \"options\": {\\n      \"a\": \"Bose was expelled from college\",\\n      \"b\": \"Bose\\'s family disowned him\",\\n      \"c\": \"Oaten resigned from his position\",\\n      \"d\": \"The students were suspended\"\\n    },\\n    \"correct\": \"a\"\\n  },\\n  \"3\": {\\n    \"mcq\": \"How did Subhas Bose\\'s family react to his expulsion?\",\\n    \"options\": {\\n      \"a\": \"They were anguished and upset\",\\n      \"b\": \"They were supportive of his actions\",\\n      \"c\": \"They were glad he was finally focusing on studies\",\\n      \"d\": \"They didn\\'t care either way\"\\n    },\\n    \"correct\": \"a\"\\n  },\\n  \"4\": {\\n    \"mcq\": \"What did Subhas Bose study at Scottish Church College?\",\\n    \"options\": {\\n      \"a\": \"History\",\\n      \"b\": \"Philosophy\",\\n      \"c\": \"Science\",\\n      \"d\": \"Law\"\\n    },\\n    \"correct\": \"b\"\\n  },\\n  \"5\": {\\n    \"mcq\": \"When was Bose\\'s expulsion finally lifted?\",\\n    \"options\": {\\n      \"a\": \"1916\",\\n      \"b\": \"1917\",\\n      \"c\": \"1918\",\\n      \"d\": \"1919\"\\n    },\\n    \"correct\": \"b\"\\n  }\\n}\\n```'}\n"
     ]
    }
   ],
   "source": [
    "response = generate_evaluate_chain({\n",
    "    \"text\": Text,\n",
    "    \"tone\": \"simple\",\n",
    "    \"number\":5,\n",
    "    \"subject\": \"subhash chandra bose\",\n",
    "    \"response_json\":json.dumps(RESPONSE_JSON),\n",
    "})\n",
    "\n",
    "print(\"Response:\", response)\n"
   ]
  },
  {
   "cell_type": "code",
   "execution_count": 179,
   "metadata": {},
   "outputs": [
    {
     "name": "stdout",
     "output_type": "stream",
     "text": [
      "```json\n",
      "{\n",
      "  \"1\": {\n",
      "    \"mcq\": \"Why did Subhas Bose travel to Northern India during the long vacations of 1914?\",\n",
      "    \"options\": {\n",
      "      \"a\": \"To search for a spiritual guru\",\n",
      "      \"b\": \"To study philosophy\",\n",
      "      \"c\": \"To meet his brothers\",\n",
      "      \"d\": \"To take a break from college\"\n",
      "    },\n",
      "    \"correct\": \"a\"\n",
      "  },\n",
      "  \"2\": {\n",
      "    \"mcq\": \"What was the consequence of the incident involving Professor Oaten?\",\n",
      "    \"options\": {\n",
      "      \"a\": \"Bose was expelled from college\",\n",
      "      \"b\": \"Bose's family disowned him\",\n",
      "      \"c\": \"Oaten resigned from his position\",\n",
      "      \"d\": \"The students were suspended\"\n",
      "    },\n",
      "    \"correct\": \"a\"\n",
      "  },\n",
      "  \"3\": {\n",
      "    \"mcq\": \"How did Subhas Bose's family react to his expulsion?\",\n",
      "    \"options\": {\n",
      "      \"a\": \"They were anguished and upset\",\n",
      "      \"b\": \"They were supportive of his actions\",\n",
      "      \"c\": \"They were glad he was finally focusing on studies\",\n",
      "      \"d\": \"They didn't care either way\"\n",
      "    },\n",
      "    \"correct\": \"a\"\n",
      "  },\n",
      "  \"4\": {\n",
      "    \"mcq\": \"What did Subhas Bose study at Scottish Church College?\",\n",
      "    \"options\": {\n",
      "      \"a\": \"History\",\n",
      "      \"b\": \"Philosophy\",\n",
      "      \"c\": \"Science\",\n",
      "      \"d\": \"Law\"\n",
      "    },\n",
      "    \"correct\": \"b\"\n",
      "  },\n",
      "  \"5\": {\n",
      "    \"mcq\": \"When was Bose's expulsion finally lifted?\",\n",
      "    \"options\": {\n",
      "      \"a\": \"1916\",\n",
      "      \"b\": \"1917\",\n",
      "      \"c\": \"1918\",\n",
      "      \"d\": \"1919\"\n",
      "    },\n",
      "    \"correct\": \"b\"\n",
      "  }\n",
      "}\n",
      "```\n"
     ]
    }
   ],
   "source": [
    "quiz=response.get(\"quiz\")\n",
    "print(quiz)"
   ]
  },
  {
   "cell_type": "code",
   "execution_count": 180,
   "metadata": {},
   "outputs": [
    {
     "name": "stdout",
     "output_type": "stream",
     "text": [
      "<class 'str'>\n"
     ]
    }
   ],
   "source": [
    "print(type(quiz))"
   ]
  },
  {
   "cell_type": "code",
   "execution_count": 182,
   "metadata": {},
   "outputs": [],
   "source": [
    "import pandas as pd\n",
    "\n",
    "\n",
    "df = pd.DataFrame([quiz.split(\"|\")], columns=[\"mcq\"])"
   ]
  },
  {
   "cell_type": "code",
   "execution_count": null,
   "metadata": {},
   "outputs": [],
   "source": []
  }
 ],
 "metadata": {
  "kernelspec": {
   "display_name": "myenv",
   "language": "python",
   "name": "python3"
  },
  "language_info": {
   "codemirror_mode": {
    "name": "ipython",
    "version": 3
   },
   "file_extension": ".py",
   "mimetype": "text/x-python",
   "name": "python",
   "nbconvert_exporter": "python",
   "pygments_lexer": "ipython3",
   "version": "3.12.3"
  }
 },
 "nbformat": 4,
 "nbformat_minor": 2
}
